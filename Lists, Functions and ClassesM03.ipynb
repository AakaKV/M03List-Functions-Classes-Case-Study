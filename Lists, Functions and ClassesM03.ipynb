{
 "cells": [
  {
   "cell_type": "code",
   "execution_count": 30,
   "id": "660944b1",
   "metadata": {},
   "outputs": [
    {
     "name": "stdout",
     "output_type": "stream",
     "text": [
      "Please Enter type of vehicle: Car\n",
      "Please enter your car's year: 2054\n",
      "Please enter your car brand or Make: Londa\n",
      "Please enter car model: Guscon\n",
      "Please enter number of doors as an integer: 3\n",
      "Please enter the type of roof on your car: 'Standard,window, ect' roll\n",
      "Vehicle Type:Car\n",
      "Year:2054\n",
      "Make: Londa\n",
      "Model:Guscon\n",
      "Number of doors: 3\n",
      "Roof type: roll\n"
     ]
    }
   ],
   "source": [
    "class Vehicle:#Sets up a Vehicle class\n",
    "    def __init__(self,vType):\n",
    "        self.vType = vType\n",
    "        \n",
    "class Automobile(Vehicle):\n",
    "    def aspects(self,vType,year,make,model,numDoors,roofType):\n",
    "        self.year = year\n",
    "        self.make = make\n",
    "        self.model = model\n",
    "        self.numDoors = numDoors\n",
    "        self.roofType = roofType\n",
    "    def disAspects(self):\n",
    "        print(f\"Vehicle Type:{self.vType}\")\n",
    "        print(f\"Year:{self.year}\")\n",
    "        print(f\"Make: {self.make}\")\n",
    "        print(f\"Model:{self.model}\")\n",
    "        print(f\"Number of doors: {self.numDoors}\")\n",
    "        print(f\"Roof type: {self.roofType}\")\n",
    "vehType = str(input(\"Please Enter type of vehicle: \"))#Get's vehicle's category such as car,Boat or Plane.\n",
    "vYear = int(input(\"Please enter your car's year: \"))#Get car's year\n",
    "vMake = str(input(\"Please enter your car brand or Make: \"))#get the Brand or make of the car\n",
    "vModel = str(input(\"Please enter car model: \"))#get the car's model\n",
    "vDoors = int(input(\"Please enter number of doors as an integer: \"))#Get the number of doors on the car\n",
    "vRoof = str(input(\"Please enter the type of roof on your car: 'Standard,window, ect' \"))#Get the type of roof on car\n",
    "testCar2 = Vehicle(vehType)#Initialize the self and car type for the Automobile class\n",
    "Automobile.aspects(testCar2,testCar2,vYear,vMake,vModel,vDoors,vRoof)#Uses the user input to make the car\n",
    "Automobile.disAspects(testCar2)#Prints the specifications that the user listed"
   ]
  },
  {
   "cell_type": "code",
   "execution_count": null,
   "id": "63c1d1c5",
   "metadata": {},
   "outputs": [],
   "source": []
  }
 ],
 "metadata": {
  "kernelspec": {
   "display_name": "Python 3 (ipykernel)",
   "language": "python",
   "name": "python3"
  },
  "language_info": {
   "codemirror_mode": {
    "name": "ipython",
    "version": 3
   },
   "file_extension": ".py",
   "mimetype": "text/x-python",
   "name": "python",
   "nbconvert_exporter": "python",
   "pygments_lexer": "ipython3",
   "version": "3.9.12"
  }
 },
 "nbformat": 4,
 "nbformat_minor": 5
}
